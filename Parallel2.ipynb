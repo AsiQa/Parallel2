{
  "nbformat": 4,
  "nbformat_minor": 0,
  "metadata": {
    "colab": {
      "name": "Projekat2 paralelni",
      "provenance": [],
      "collapsed_sections": [
        "c9MPLh8mo41F",
        "_Dhg21IuGSk1"
      ]
    },
    "kernelspec": {
      "name": "python3",
      "display_name": "Python 3"
    }
  },
  "cells": [
    {
      "cell_type": "markdown",
      "metadata": {
        "id": "29jRBtTkR9K2"
      },
      "source": [
        "# Paralelni algoritmi - drugi projekat\n",
        "\n",
        "- Projekat se radi individualno ili u paru\n",
        "\n",
        "- Rok za predaju projekata je ponedeljak 14.12.2020. Biće potrebno da se studenti koji planiraju da urade i odbrane projekat prijave, do datuma i procedurom koji će naknadno biti objavljeni.\n",
        "\n",
        "- Predaja projekata je putem emaila, programski kod bi trebalo da\n",
        "bude prikacen uz sam email. Link ka Collab-u je opcion. Ukoliko dva\n",
        "studenta rade u paru, dovoljno je da jedan od njih preda, pri cemu\n",
        "drugog stavi u cc. E-mail treba da sadrzi sve podatke (ime, prezime,\n",
        "broj indeksa) za oba studenta.\n",
        "\n",
        "\n",
        "1. **Pristup tekstu sa Wikipedije putem MapReduce programa (6 bodova)**  \n",
        "Napisati program koji kroz map-reduce paradigmu (upotrebom funkcije *map* iz Python standardne biblioteke i funkcije *reduce* iz paketa *functools*):\n",
        "  - Za zadatu listu ključnih reči vrši pretragu Wiki stranica i dohvata zadati broj rezultata (naslova stranica)\n",
        "    Za pristup wiki stranicama se može koristiti python biblioteku [*wikipedia*](https://pypi.org/project/wikipedia/):\n",
        "```python\n",
        "import wikipedia\n",
        "wikipedia.set_lang(\"sr\")\n",
        "```\n",
        "```python\n",
        "def get_pages(query, results=50):\n",
        "  '''Dohvata naslove zahtevanog broja stranica koje se pojavaljuju kao \n",
        "      rezultati pretrage za zadatu kljucnu rec'''\n",
        "      pages = wikipedia.search(query, results=results)\n",
        "      return pages\n",
        "```\n",
        "  - Paralelizovati rešenje iz prethodne tačke upotrebom funkcija `Pool.map` iz paketa `multiprocessing`\n",
        "  - Wikipedia API ponekad vrati nevalidne naslove stranica, pa je rezultate neophodno sanitizovati. Napisati map/reduce rešenje koje sanitizuje rezultate iz prethodne tačke. Sanitizacija se može izvesti pokušajem da dohvatanja stranice na osnovu nasova (`wikipedia.page(title)`) i hvatanjem izuzetaka.\n",
        "  - Napisati map/reduce rešenje koje dohvata sažetke stranica (`page.summary`) iz sanitizovane liste formirane u prethodnoj tački.\n",
        "  - Wikipedia API ponekad meša stranice na ćiriličnom i latiničnom pismu. Unifikovati tekstive dobijene u prethodnoj tački prevođenjem reči na isto pismo (ćirilično ili latinično)\n",
        "  ```python\n",
        "import transliterate\n",
        "transliterate.translit(word, 'sr')\n",
        "```\n",
        " - Odabrati nekoliko ključnih reči po slobodnom izboru i pokazati da program radi dohvatanjem po dva rezultata za svaku kljunu reč.\n",
        "\n",
        "2. **Brojanje reci u tesktu i bag-of-words reprezentacija putem MapReduce programa (8 bodova)**  \n",
        "U ovom zadatku ćemo stranice predstaviti kao *bag-of-words* vektore. *Bag-of-words* reprezentacija se dobija tako što za *sve** reči koje se pojavljuju u svim tekstovima izbrojimo koliko puta se pojavljuju u svakom tekstu. Tekst potom predstvaljamo kao vektor ovih brojeva.   \n",
        "Na primer, posmatrajmo dva teksta:\n",
        "``` \n",
        "Pera voli da gleda filmove. Mika takođe voli filmove.\n",
        "``` \n",
        "```\n",
        "Mika voli da gleda i fudbalske utakmice.\n",
        "```\n",
        "Reči koje se pojavljuju su:\n",
        "```\n",
        "Pera, voli, da, gleda, filmove, Mika, takođe, i, fudbalske, utakmice\n",
        "``` \n",
        "  *Bag-of-words* reprezentacija tekstova je:\n",
        "```\n",
        "1, 2, 1, 1, 2, 1, 1, 0, 0, 0\n",
        "```\n",
        "odnosno:\n",
        "```\n",
        "0, 1, 1, 1, 0, 1, 0, 1, 1, 1\n",
        "```\n",
        "U praksi se reči koje se previše često ili previše retko pojavljuju uglavnom odbacuju. \n",
        "  - Napisati map/reduce program koji datu listu tesktiva pretvara u *Bag-of-words* reprezentaciju. Pre brojanja reči potrebno je sve reči prevesti u mala ili velika slova (po vašem izboru), te izbaciti interpunkcijske znake i specijalne karaktere (u najmanju ruku sledeći skup `\\n, \\t, =, -, (, ), _`). Odbaciti reči koje se pojavljuju veoma često u većini tekstovima (nalaze se u 90% najčešćih reči u bar 90% tekstova), ili se pojavljuju u manje od 1% tekstova. Ovu obradu izvesti kroz posebne map/reduce korake.\n",
        "  - Ručno uneti nekoliko tekstova po slobodnom izboru i pokazati da program radi.\n",
        "\n",
        "3. **K-means klastersanje putem MapReduce programa (5 bodova)**   \n",
        "Napisati map/reduce program koji vrši k-means klasterisanje liste vektora.\n",
        "Nasumično generisati podatke iz nekoliko normalnih raspodela u dve dimenzije i pokazati da algoritam radi (videti vežbe za primer). \n",
        "\n",
        "4. **Primena rešenja  (6 bodova)**  \n",
        "Povezati kod iz zadataka 1-3 kojim se Wiki na srpskom jeziku pretražuje za sledeći skup ključnih reči `['Beograd', 'Prvi svetski rat', 'Protein', 'Mikroprocesor', 'Stefan Nemanja', 'Košarka']`, za svaku dohvata po 50 rezultata, stranice prevode u *bag-of-words* reprezentaciju, i vrši njihovo klasterisanje. \n",
        "U kojom meri klasteri odgovaraju temama prema kojima su stranice dohvatane?"
      ]
    },
    {
      "cell_type": "code",
      "metadata": {
        "id": "B22SwU1fY5oG",
        "colab": {
          "base_uri": "https://localhost:8080/"
        },
        "outputId": "09828428-1847-4448-a40e-7c4c433d9008"
      },
      "source": [
        "!pip install wikipedia\n",
        "!pip install transliterate"
      ],
      "execution_count": null,
      "outputs": [
        {
          "output_type": "stream",
          "text": [
            "Requirement already satisfied: wikipedia in /usr/local/lib/python3.6/dist-packages (1.4.0)\n",
            "Requirement already satisfied: beautifulsoup4 in /usr/local/lib/python3.6/dist-packages (from wikipedia) (4.6.3)\n",
            "Requirement already satisfied: requests<3.0.0,>=2.0.0 in /usr/local/lib/python3.6/dist-packages (from wikipedia) (2.23.0)\n",
            "Requirement already satisfied: chardet<4,>=3.0.2 in /usr/local/lib/python3.6/dist-packages (from requests<3.0.0,>=2.0.0->wikipedia) (3.0.4)\n",
            "Requirement already satisfied: idna<3,>=2.5 in /usr/local/lib/python3.6/dist-packages (from requests<3.0.0,>=2.0.0->wikipedia) (2.10)\n",
            "Requirement already satisfied: urllib3!=1.25.0,!=1.25.1,<1.26,>=1.21.1 in /usr/local/lib/python3.6/dist-packages (from requests<3.0.0,>=2.0.0->wikipedia) (1.24.3)\n",
            "Requirement already satisfied: certifi>=2017.4.17 in /usr/local/lib/python3.6/dist-packages (from requests<3.0.0,>=2.0.0->wikipedia) (2020.12.5)\n",
            "Requirement already satisfied: transliterate in /usr/local/lib/python3.6/dist-packages (1.10.2)\n",
            "Requirement already satisfied: six>=1.1.0 in /usr/local/lib/python3.6/dist-packages (from transliterate) (1.15.0)\n"
          ],
          "name": "stdout"
        }
      ]
    },
    {
      "cell_type": "markdown",
      "metadata": {
        "id": "m63jyLiuowqK"
      },
      "source": [
        "# **GET_PAGES + SUMMARY**"
      ]
    },
    {
      "cell_type": "code",
      "metadata": {
        "id": "YpZCiE9jH35j"
      },
      "source": [
        "from multiprocessing import Pool, cpu_count\r\n",
        "from functools import reduce\r\n",
        "from itertools import starmap\r\n",
        "import wikipedia\r\n",
        "import transliterate as trans\r\n",
        "\r\n",
        "\r\n",
        "\r\n",
        "wikipedia.set_lang(\"sr\")\r\n",
        "pool = Pool(cpu_count())\r\n",
        "\r\n",
        "\r\n",
        "\r\n",
        "def get_pages(query, results=50):\r\n",
        "    return query, wikipedia.search(query, results=results)\r\n",
        "\r\n",
        "def sanitize_tuple(key, value):\r\n",
        "    return key, reduce(izbaci_None, pool.map(sanitize, value), [])\r\n",
        "\r\n",
        "def sanitize_list(value):\r\n",
        "    #pool.map ili pool.map_async\r\n",
        "    return reduce(izbaci_None, pool.map(sanitize, value), [])\r\n",
        "\r\n",
        "def sanitize(value):\r\n",
        "    try:\r\n",
        "        return wikipedia.page(value)\r\n",
        "    except:\r\n",
        "        print(\"EXCEPT: \" + str(value))\r\n",
        "        return None\r\n",
        "\r\n",
        "def izbaci_None(ulaz, izlaz):\r\n",
        "    if izlaz is not None:\r\n",
        "        return ulaz + [izlaz]\r\n",
        "    else:\r\n",
        "        return ulaz\r\n",
        "\r\n",
        "def summary(vrednost):\r\n",
        "    return wikipedia.summary(vrednost.title)\r\n",
        "\r\n",
        "def merge_search(izlaz, ulaz):\r\n",
        "    return izlaz + ulaz\r\n",
        "\r\n",
        "def get_page_summary(key, value):\r\n",
        "    return pool.map(summary, value)\r\n",
        "\r\n",
        "def translit(vrednost):\r\n",
        "    return str(trans.translit(vrednost, 'sr'))"
      ],
      "execution_count": null,
      "outputs": []
    },
    {
      "cell_type": "code",
      "metadata": {
        "id": "icAkUj-hZTZU",
        "colab": {
          "base_uri": "https://localhost:8080/"
        },
        "outputId": "285fd44d-2a26-46ae-8125-37d29655ac9d"
      },
      "source": [
        "\n",
        "\n",
        "keywords = ['Beograd', 'Prvi svetski rat', 'Protein', 'Mikroprocesor', 'Stefan Nemanja', 'Košarka']\n",
        "\n",
        "\n",
        "all_pages_list = pool.map(get_pages, keywords)\n",
        "sanitizovana_lista = list(starmap(sanitize_tuple, all_pages_list))\n",
        "\n",
        "print(sanitizovana_lista)\n",
        "\n",
        "\n",
        "#sanitizovana_lista u sebi sadrzi listu tuplova (Keyword, lista sanitizovanih stranica) \n",
        "\n"
      ],
      "execution_count": null,
      "outputs": [
        {
          "output_type": "stream",
          "text": [
            "EXCEPT: Protein-glutamat O-metiltransferaza\n"
          ],
          "name": "stdout"
        },
        {
          "output_type": "stream",
          "text": [
            "/usr/local/lib/python3.6/dist-packages/wikipedia/wikipedia.py:389: UserWarning: No parser was explicitly specified, so I'm using the best available HTML parser for this system (\"lxml\"). This usually isn't a problem, but if you run this code on another system, or in a different virtual environment, it may use a different parser and behave differently.\n",
            "\n",
            "The code that caused this warning is on line 389 of the file /usr/local/lib/python3.6/dist-packages/wikipedia/wikipedia.py. To get rid of this warning, pass the additional argument 'features=\"lxml\"' to the BeautifulSoup constructor.\n",
            "\n",
            "  lis = BeautifulSoup(html).find_all('li')\n"
          ],
          "name": "stderr"
        },
        {
          "output_type": "stream",
          "text": [
            "EXCEPT: IP\n"
          ],
          "name": "stdout"
        },
        {
          "output_type": "stream",
          "text": [
            "/usr/local/lib/python3.6/dist-packages/wikipedia/wikipedia.py:389: UserWarning: No parser was explicitly specified, so I'm using the best available HTML parser for this system (\"lxml\"). This usually isn't a problem, but if you run this code on another system, or in a different virtual environment, it may use a different parser and behave differently.\n",
            "\n",
            "The code that caused this warning is on line 389 of the file /usr/local/lib/python3.6/dist-packages/wikipedia/wikipedia.py. To get rid of this warning, pass the additional argument 'features=\"lxml\"' to the BeautifulSoup constructor.\n",
            "\n",
            "  lis = BeautifulSoup(html).find_all('li')\n"
          ],
          "name": "stderr"
        },
        {
          "output_type": "stream",
          "text": [
            "EXCEPT: Стефан I\n",
            "[('Beograd', [<WikipediaPage 'Beograd 2020'>, <WikipediaPage 'Градска општина Нови Београд'>, <WikipediaPage 'ГСП Београд'>, <WikipediaPage 'Blu dragonsi Beograd'>, <WikipediaPage 'ОФК Београд'>, <WikipediaPage 'Библиотека града Београда'>, <WikipediaPage 'Трг републике (Београд)'>, <WikipediaPage 'Грб Београда'>, <WikipediaPage 'Београд у Народноослободилачкој борби'>, <WikipediaPage 'Народно позориште у Београду'>, <WikipediaPage 'Историја Београда'>, <WikipediaPage 'Бомбардовање Београда (1941)'>, <WikipediaPage 'Аеродром Никола Тесла Београд'>, <WikipediaPage 'Кнез Михаилова (Београд)'>, <WikipediaPage 'ОШ „Милан Ракић” Нови Београд'>, <WikipediaPage 'Филозофски факултет Универзитета у Београду'>, <WikipediaPage 'ФК Раднички Београд'>, <WikipediaPage 'Филолошки факултет Универзитета у Београду'>, <WikipediaPage 'ОШ „Јован Дучић” Нови Београд'>, <WikipediaPage 'Гробље ослободилаца Београда 1944.'>, <WikipediaPage 'Студентски културни центар Београд'>, <WikipediaPage 'Градске општине Града Београда'>, <WikipediaPage 'ОШ „Драган Лукић” Нови Београд'>, <WikipediaPage 'Музеј ваздухопловства — Београд'>, <WikipediaPage 'Опсада Београда (1806)'>, <WikipediaPage 'Град Београд'>, <WikipediaPage 'Ново гробље (Београд)'>, <WikipediaPage 'Опсада Београда (1440)'>, <WikipediaPage 'ОШ „Иван Гундулић” Нови Београд'>, <WikipediaPage 'Пад Београда (1521)'>, <WikipediaPage 'Бомбардовање Београда (1944)'>, <WikipediaPage 'Дом омладине Београда'>, <WikipediaPage 'ОШ „Милан Ђ. Милићевић” Београд'>, <WikipediaPage 'Операција Београд'>, <WikipediaPage 'Студентски град (Нови Београд)'>, <WikipediaPage 'ОШ „Надежда Петровић” Нови Београд'>, <WikipediaPage 'Градска општина Стари град (Београд)'>, <WikipediaPage 'Православни богословски факултет Универзитета у Београду'>, <WikipediaPage 'Електротехнички факултет Универзитета у Београду'>, <WikipediaPage 'ОШ „Вук Караџић” Београд'>, <WikipediaPage 'Вазнесењска црква у Београду'>, <WikipediaPage 'Железничка станица Београд–главна'>, <WikipediaPage 'Црква Светог Марка у Београду'>, <WikipediaPage 'Београд'>, <WikipediaPage 'ОШ „Краљ Александар I” Нови Београд'>, <WikipediaPage 'ОШ „Борислав Пекић” Нови Београд'>, <WikipediaPage 'ОШ „Јајинци” Београд'>, <WikipediaPage 'Столни Београд'>, <WikipediaPage 'Опсада Београда (1456)'>, <WikipediaPage 'Железничка станица Београд–центар'>]), ('Prvi svetski rat', [<WikipediaPage 'Bliskoistočni teatar Prvog svetskog rata'>, <WikipediaPage 'Румунија у Првом светском рату'>, <WikipediaPage 'Балканска кампања (Први светски рат)'>, <WikipediaPage 'Учесници у Првом светском рату'>, <WikipediaPage 'Први светски рат'>, <WikipediaPage 'Србија у Првом светском рату'>, <WikipediaPage 'Списак личности везаних за Први светски рат'>, <WikipediaPage 'Савезници у Првом светском рату'>, <WikipediaPage 'Италијански фронт (Први светски рат)'>, <WikipediaPage 'Поморско ратовање у Првом светском рату'>, <WikipediaPage 'Источни фронт (Први светски рат)'>, <WikipediaPage 'Узроци Првог светског рата'>, <WikipediaPage 'Хероине Првог светског рата у Србији'>, <WikipediaPage 'Споменик ратницима Првог светског рата у Ковиљу'>, <WikipediaPage 'Жртве у Првом светском рату'>, <WikipediaPage 'Технологија Првог светског рата'>, <WikipediaPage 'Злочини аустроугарске и бугарске војске у Србији (1914—1918)'>, <WikipediaPage 'Окупација Луксембурга у Првом светском рату'>, <WikipediaPage 'Други светски рат'>, <WikipediaPage 'Спомен-гробље из Првог светског рата 1914-1918'>, <WikipediaPage 'Западни фронт (Први светски рат)'>, <WikipediaPage 'Српски војни санитет у Првом светском рату'>, <WikipediaPage 'Западни фронт (Други светски рат)'>, <WikipediaPage 'Светски рат'>, <WikipediaPage 'Списак француских села уништених у Првом светском рату'>, <WikipediaPage 'Споменик српским ратницима 1912-1918. у Полумиру'>, <WikipediaPage 'Први балкански рат'>, <WikipediaPage 'Историја Албаније у Другом светском рату'>, <WikipediaPage 'Други светски рат у Југославији'>, <WikipediaPage 'Европско ратиште (Други светски рат)'>, <WikipediaPage 'Македонска војно-инспекциона област'>, <WikipediaPage 'Италијанска кампања (Други светски рат)'>, <WikipediaPage 'Окупаторска подела Југославије у Другом светском рату'>, <WikipediaPage 'Filipinsko-američki rat'>, <WikipediaPage 'Последице Другог светског рата'>, <WikipediaPage 'Балканска кампања (Други светски рат)'>, <WikipediaPage 'Пролећна офанзива'>, <WikipediaPage 'Први скадарски рат'>, <WikipediaPage 'Списак окршаја током Другог светског рата'>, <WikipediaPage 'Злочини усташа у Другом светском рату'>, <WikipediaPage 'Источни фронт (Други светски рат)'>, <WikipediaPage 'Арапско-израелски рат (1948)'>, <WikipediaPage 'Примирје са Мудроса'>, <WikipediaPage 'Војска Краљевине Србије (1914—1918)'>, <WikipediaPage 'Геноцид над Србима у Другом свјетском рату'>, <WikipediaPage 'Узроци Другог светског рата'>, <WikipediaPage 'Хладни рат'>, <WikipediaPage 'Заливски рат'>, <WikipediaPage 'Моравска војно-инспекциона област'>, <WikipediaPage 'Списак последњих преживелих ветерана Првог светског рата по државама'>]), ('Protein', [<WikipediaPage 'Protein—protein interakcija'>, <WikipediaPage 'G protein'>, <WikipediaPage 'G protein spregnuti receptori'>, <WikipediaPage 'Transportni protein'>, <WikipediaPage 'Transmembranski protein'>, <WikipediaPage 'Protein-argininska deiminaza'>, <WikipediaPage 'Протеин'>, <WikipediaPage 'Protein-glutamatna metilsteraza'>, <WikipediaPage 'NAD(P)+—protein-arginin ADP-riboziltransferaza'>, <WikipediaPage 'Heterotrimerni G protein'>, <WikipediaPage 'Enoil-(acil-nosilac-protein) reduktaza (NADH)'>, <WikipediaPage 'Protein toplotnog šoka'>, <WikipediaPage '3-oksoacil-(acil-nosilac-protein) reduktaza'>, <WikipediaPage 'Protein-tirozin sulfotransferaza'>, <WikipediaPage 'Dolihil-fosfat-manoza-protein manoziltransferaza'>, <WikipediaPage 'Zeleni fluorescentni protein'>, <WikipediaPage 'Tau-protein kinaza'>, <WikipediaPage 'Protein-disulfid reduktaza (glutation)'>, <WikipediaPage 'Protein ksiloziltransferaza'>, <WikipediaPage 'Replikacioni protein A1'>, <WikipediaPage '3-Oksoacil-(acil-nosilac-protein) sintaza'>, <WikipediaPage 'Dolihil-difosfooligosaharid—protein glikotransferaza'>, <WikipediaPage 'Protein-lizin 6-oksidaza'>, <WikipediaPage 'Protein C (aktivirani)'>, <WikipediaPage '(Acil-nosilac-protein) S-acetiltransferaza'>, <WikipediaPage 'Protein-disulfid reduktaza'>, <WikipediaPage '(Acil-nosilac-protein) S-maloniltransferaza'>, <WikipediaPage 'Krotonoil-(acil-nosilac-protein) hidrataza'>, <WikipediaPage '3-Hidroksioktanoil-(acil-nosilac-protein) dehidrataza'>, <WikipediaPage 'Trifosfat-protein fosfotransferaza'>, <WikipediaPage 'Palmitoil(protein) hidrolaza'>, <WikipediaPage 'Replikacioni protein A'>, <WikipediaPage '(Acil-nosilac-protein) fosfodiestaraza'>, <WikipediaPage 'Dodekanoil-(acil-nosilac-protein) hidrolaza'>, <WikipediaPage 'Protein-histidin tele-kinaza'>, <WikipediaPage '(Protein-PII) uridililtransferaza'>, <WikipediaPage 'Protein-histidin pros-kinaza'>, <WikipediaPage 'Терцијарна структура протеина'>, <WikipediaPage 'Holo-(acil-nosilac-protein) sintaza'>, <WikipediaPage 'Protein-metionin-S-oksid reduktaza'>, <WikipediaPage 'Protein-Npi-fosfohistidin-šećer fosfotransferaza'>, <WikipediaPage 'Protein-ribulozamin 3-kinaza'>, <WikipediaPage 'Oleoil-(acil-nosilac-protein) hidrolaza'>, <WikipediaPage 'Protein-serinska epimeraza'>, <WikipediaPage 'Malonil-S-ACP:biotin-protein karboksiltransferaza'>, <WikipediaPage 'Protein N-acetilglukozaminiltransferaza'>, <WikipediaPage '3-Hidroksipalmitoil-(acil-nosilac-protein) dehidrataza'>, <WikipediaPage 'Protein-L-izoaspartat(D-aspartat) O-metiltransferaza'>, <WikipediaPage 'Sekretaza amiloidnog prekurzornog proteina'>]), ('Mikroprocesor', [<WikipediaPage 'Микропроцесор'>, <WikipediaPage 'Intel 80186'>, <WikipediaPage 'Intel 8080'>, <WikipediaPage 'Интел'>, <WikipediaPage 'Intel 8088'>, <WikipediaPage 'Intel 8085'>, <WikipediaPage 'Intel 4040'>, <WikipediaPage 'Intel 8086'>, <WikipediaPage 'Intel 8008'>, <WikipediaPage 'Intel 4004'>, <WikipediaPage 'PowerPC'>, <WikipediaPage 'Микроконтролер'>, <WikipediaPage 'Галаксија (рачунар)'>, <WikipediaPage 'MIPS'>, <WikipediaPage 'San majkrosistems'>, <WikipediaPage 'Интегрисано коло'>, <WikipediaPage 'Моторола 68008'>, <WikipediaPage 'Муров закон'>, <WikipediaPage 'Трансмета'>, <WikipediaPage 'Pecom 64'>, <WikipediaPage 'Амига'>, <WikipediaPage 'IA-32'>, <WikipediaPage 'Процес-оријентисано програмирање'>, <WikipediaPage 'Macintosh'>, <WikipediaPage 'Централна процесорска јединица'>, <WikipediaPage 'Паралелизам на нивоу бита'>, <WikipediaPage 'Convergent Technologies Workslate'>, <WikipediaPage 'Pecom 32'>, <WikipediaPage 'Pametna kartica'>, <WikipediaPage 'МОС текнолоџи'>, <WikipediaPage 'Sinclair ZX81'>, <WikipediaPage 'AMD'>, <WikipediaPage 'Чип'>, <WikipediaPage 'Линус Торвалдс'>, <WikipediaPage 'Macintosh 128K'>, <WikipediaPage 'CP/M'>, <WikipediaPage 'Atari 520'>, <WikipediaPage 'ТИМ-011'>, <WikipediaPage 'АТЛАС-ТИМ AT 32'>, <WikipediaPage 'Лола 8'>, <WikipediaPage 'Кеш меморија'>, <WikipediaPage 'Програмски језик ниског нивоа'>, <WikipediaPage 'ПТТ'>, <WikipediaPage 'MB-6880'>, <WikipediaPage 'Laser 128'>, <WikipediaPage 'NMOS'>, <WikipediaPage 'Amstrad 464'>, <WikipediaPage 'Apple Lisa'>, <WikipediaPage 'Комодор PET'>]), ('Stefan Nemanja', [<WikipediaPage 'ОШ „Стефан Немања” Студеница'>, <WikipediaPage 'ОШ „Стефан Немања” Савски венац'>, <WikipediaPage 'Стефан Немања'>, <WikipediaPage 'Стефан Првовенчани'>, <WikipediaPage 'Bitka kod Pantina'>, <WikipediaPage 'Ана Немањић'>, <WikipediaPage 'Немањина улица (Земун)'>, <WikipediaPage 'Стефан Вукановић Немањић'>, <WikipediaPage 'Житије Светог Симеона'>, <WikipediaPage 'Стефан'>, <WikipediaPage 'Стефан Урош I'>, <WikipediaPage 'Споменик Стефану Немањи у Београду'>, <WikipediaPage 'Александар Рукавишњиков'>, <WikipediaPage 'Стефан Владислав'>, <WikipediaPage 'Првослав Немањић'>, <WikipediaPage 'Тихомир Завидовић'>, <WikipediaPage 'Стефан Радослав'>, <WikipediaPage 'Списак владара из династије Немањића'>, <WikipediaPage 'Немања'>, <WikipediaPage 'Стефан Лазаревић'>, <WikipediaPage 'Стефан Урош III Дечански'>, <WikipediaPage 'Културно-туристички центар „Стефан Немања” Лапово'>, <WikipediaPage 'Битка на Морави (1190)'>, <WikipediaPage 'Немања Мајдов'>, <WikipediaPage 'Немања Јоргић'>, <WikipediaPage 'Немања Станојевић'>, <WikipediaPage 'Стефан Душан'>, <WikipediaPage 'Немањићи'>, <WikipediaPage 'Кошаркашка репрезентација Србије до 18 и 19 година'>, <WikipediaPage 'Вукан Немањић'>, <WikipediaPage 'Кошаркашка репрезентација Србије до 16 и 17 година'>, <WikipediaPage 'Стефан Урош II Милутин'>, <WikipediaPage 'Стефан Драгутин'>, <WikipediaPage 'Немања Бјелица'>, <WikipediaPage 'Мирослав Завидовић'>, <WikipediaPage 'Стефан Владислав II'>, <WikipediaPage 'Зета у доба Немањића'>, <WikipediaPage 'Стефан (титула)'>, <WikipediaPage 'Стефан Немањић (син Уроша I)'>, <WikipediaPage 'Завида'>, <WikipediaPage 'Стефан Миленковић'>, <WikipediaPage 'Хиландарска повеља'>, <WikipediaPage 'Манастир Студеница'>, <WikipediaPage 'Немања Радуловић'>, <WikipediaPage '1196'>, <WikipediaPage 'Миле Медић'>, <WikipediaPage 'Жељко Фајфрић'>, <WikipediaPage 'Сабор против богумила у Рашкој'>, <WikipediaPage 'Повеља Сплићанима'>]), ('Košarka', [<WikipediaPage 'Ulična košarka'>, <WikipediaPage 'Бек (кошарка)'>, <WikipediaPage 'Кошарка'>, <WikipediaPage 'Крило (кошарка)'>, <WikipediaPage 'Кошарка на Летњим олимпијским играма'>, <WikipediaPage 'Крилни центар'>, <WikipediaPage 'Koš (košarka)'>, <WikipediaPage 'Кошарка за жене на Летњим олимпијским играма 2008.'>, <WikipediaPage 'Баскет'>, <WikipediaPage 'Кошарка (Демир Капија)'>, <WikipediaPage 'Кошарка за мушкарце на Летњим олимпијским играма 2008.'>, <WikipediaPage 'Кошарка на Летњим олимпијским играма 1936.'>, <WikipediaPage 'Центар (кошарка)'>, <WikipediaPage 'Кошарка на Летњим олимпијским играма 2016.'>, <WikipediaPage 'Андро Кнего'>, <WikipediaPage 'НБА такмичење у вештинама'>, <WikipediaPage 'Los Anđeles klipersi'>, <WikipediaPage 'Евролига у кошарци'>, <WikipediaPage 'КК Реал Мадрид'>, <WikipediaPage 'ФИБА'>, <WikipediaPage 'Milvoki baksi'>, <WikipediaPage 'Кошарка за мушкарце на Медитеранским играма 2013.'>, <WikipediaPage 'Vašington vizardsi'>, <WikipediaPage 'Друга Јадранска лига у кошарци'>, <WikipediaPage 'Кошаркашка репрезентација Француске'>, <WikipediaPage 'Кошаркашка репрезентација Немачке'>, <WikipediaPage 'Кошарка на Летњим олимпијским играма 2008.'>, <WikipediaPage 'КК Тамперен Пиринте'>, <WikipediaPage 'Кошарка на Летњим олимпијским играма 1980.'>, <WikipediaPage 'КК Копер Приморска'>, <WikipediaPage 'Кошаркашка лопта'>, <WikipediaPage 'Лари Берд'>, <WikipediaPage 'Кошарка за мушкарце на Универзијади 2007.'>, <WikipediaPage 'Кошаркашка репрезентација Бразила'>, <WikipediaPage 'Куп Пољске у кошарци'>, <WikipediaPage 'Кошаркашка репрезентација Бугарске'>, <WikipediaPage 'Александар Николић'>, <WikipediaPage 'Кошарка за мушкарце на Летњим олимпијским играма 2004.'>, <WikipediaPage 'Петер Вилфан'>, <WikipediaPage 'НБА сезона 2017/18.'>, <WikipediaPage 'НБА сезона 2018/19.'>, <WikipediaPage 'НБА сезона 2016/17.'>, <WikipediaPage 'НБА сезона 2015/16.'>, <WikipediaPage 'Си Џеј Маколум'>, <WikipediaPage 'Куп Грчке у кошарци'>, <WikipediaPage 'НБА сезона 2019/20.'>, <WikipediaPage 'Кошаркашка репрезентација Литваније'>, <WikipediaPage 'Кошарка на Летњим олимпијским играма 1972.'>, <WikipediaPage 'Dom sportova (Zagreb)'>, <WikipediaPage 'Куп Италије у кошарци'>])]\n"
          ],
          "name": "stdout"
        }
      ]
    },
    {
      "cell_type": "code",
      "metadata": {
        "id": "IbvkwE1MrlOh"
      },
      "source": [
        "#all summary list ne cuva kljucne reci pretrage , kao sto su 'beograd', 'prvi svetski rat' ...\r\n",
        "#all summary list cuva summary svih pretraga u jednu listu koja ce kasnije biti korisna za\r\n",
        "#bag-of-words zadatak\r\n",
        "\r\n",
        "all_summary_list = list(map(translit, reduce(merge_search, starmap(get_page_summary, sanitizovana_lista), [])))\r\n",
        "print(len(all_summary_list))\r\n",
        "print(all_summary_list)"
      ],
      "execution_count": null,
      "outputs": []
    },
    {
      "cell_type": "code",
      "metadata": {
        "id": "YcuLjpz_yTEQ",
        "colab": {
          "base_uri": "https://localhost:8080/"
        },
        "outputId": "1f1bae56-0ced-4db6-98bd-dfb60e44b571"
      },
      "source": [
        "#\r\n",
        "#   PRVA STAVKA PRIMER\r\n",
        "#\r\n",
        "\r\n",
        "def get_pages_dva(query, results=2):\r\n",
        "    return query, wikipedia.search(query, results=results)\r\n",
        "\r\n",
        "\r\n",
        "kljucne_reci_za_prezentaciju = ['Cyberpunk', 'Algoritmi', 'Tastatura']\r\n",
        "prva_stavka_resenje = list(map(translit, reduce(merge_search, starmap(get_page_summary, list(starmap(sanitize_tuple, pool.map(get_pages_dva, kljucne_reci_za_prezentaciju)))), [])))\r\n",
        "\r\n",
        "print(prva_stavka_resenje)"
      ],
      "execution_count": null,
      "outputs": [
        {
          "output_type": "stream",
          "text": [
            "['Сајберпанк (енгл. Цyберпунк) је поџанр научне фантастике-а са радњом смештеном у будућност и са фокусом на „високој технологији и лошем животу“ (енгл. хигх тецх анд лоw лифе). Израз сајберпанк вуче порекло из маркетинга, а у научној фантастици га је први пут употребио Брус Бетки 1980. у краћој причи „Сајберпанк“.', \"ЦД Пројект је пољска компанија која програмира, издаје и дистрибуира видео игре, са седиштем у Варшави, која је основана 1994. Марцин Иwиńски и Мицхаł Кициńски. Ивински и Кичински су били продавци видео игара пре него што су основали компанију. ЦД Пројект је најпознатији по својој серији видео игара Вештац и њиховог дигиталног дистрибутера, ГОГ.цом.\\nКомпанија је почела тако што су преводили главна издања видео игра са запада на пољски, сарађујући са Интерплаy Ентертаинмент на две Балдур'с Гате игре. ЦД Пројект је радио на ПР верзији Балдур'с Гате: Дарк Аллианце када је Интерплаy искусила финансијске потешкоће. Игра је отказана, а компанија је одлучила да поново користи код за сопствену видео игру. Она је постала Тхе Wитцхер, видео игра базирана на радовима Анджеја Сапковског.\\nНакон изласка Тхе Wитцхер, ЦД Пројект је радио на порту за конзоле под називом Тхе Wитцхер: Wхите Wолф; али проблеми око развоја и повећања трошкова скоро да су довели компанију на ивицу банкрота. ЦД Пројект је касније издао Тхе Wитцхер 2: Ассассинс оф Кингс и Тхе Wитцхер 3: Wилд Хунт, њихова прва видео игра отвореног света, за коју су добили позитивне критике. Предстојећи пројекат компаније је Цyберпунк 2077, отворен-свет играња улога базирана на Цyберпунк 2020 стоном систему.\\nСервис за дистрибуцију видео игара, ГОГ.цом је основао ЦД Пројект, да би помогао играчима у проналаску старих игара. Његова мисија је да понуди ДРМ-слободне игре за играче, и проширен је, тако покрива нове игре А класе и независне игре. Компанија се противи управљању дигиталним правима у видео играма, и нада се да бесплатно преузимање садржаја постаје стандард у тој индустрији. ЦД Пројект сматра одржавање независности као један од њихових најважнијих стратегија. Компанија се тренутно фокусира на међународно тржиште, посебно Европу и Северну Америку, и окренуо од свог пољског пословања цдп.пл 2014.\", 'Алгоритам је опис за решавање неког проблема. Реч долази из презимена персијског математичара Ал Хорезмија. Алгоритам је био израз који описује начин рачунања децималним бројевима уведеним око 1600. године у Европи. Алгоритмичарима су се раније звали они математичари који не оперишу симболима множина представљеним на абакусу, него једним (индијским или арапским) системом знакова за бројеве (од 16. века раширеним у Европи).\\nУ новије време, алгоритам је појам који се готово искључиво везује за информатику и, мада не постоји јединствена општеприхваћена дефиниција, подразумева се да је у питању некако описана процедура за обављање посла. У ту сврху се дефинишу алгоритамски језици. То су формализовани језици којима се релативно лако описују поступци решавања проблема представљених алгоритмом, такви су на пример програмски језици Алгол, Фортран и Кобол.\\nУ математичкој логици је алгоритам генерализован појам и односи се на поступак за поступно претварање низова знакова.', 'Алгоритам сортирања је алгоритам  који ставља елементе листе у одређеном редоследу. Највише коришћена наређења су нумерички и лексичко-графички ред. Ефикасно сортирање је важно за оптимизацију коришћења других алгоритама (као што су алгоритми претраге и спајања) које захтевају унос података у сортиране листе; такође је често корисно за \"канонизоване\" податаке и за производњу људски разумљивих излазних вредности. Формалније речено, излаз мора задовољити два услова:\\n\\nИзлаз је у растућем редоследу (сваки елемент је већи од претходног елемента према жељеном редоследу);\\nИзлаз је пермутација (преуређена) улаза.Даље, подаци се радије узимају да буду низ, који омогућава насумичан приступ, него листа која дозвољава само секвенцијални приступ, мада често алгоритми се могу примењивати уз погодну модификацију за обе врсте података.\\nОд настанка рачунарства, проблем сортирања је привукао велика истраживања, можда због сложености његовог ефикасног решавања упркос свом једноставном обрачун. На пример, \"мехурасто сортирање\" је анализиран већ 1956. године. Основна граница сортирања поређења алгоритама је да они захтевају време извршавања – О(н лог н) – у најгорем случају, мада боље перформансе је могуће извести на стварним подацима (као што су сортирани подаци), и алгоритама који нису основани на поређењу, као што је бројање врсти, могу имати боље перформансе. Иако многи сматрају сортирање као решен проблем - асимптотично оптимални алгоритми су познати још од средине 20. века – корисни нови алгоритми се још увек праве са сада већ увелико коришћеним тимсорт из 2002. године, и библиотечко сортирање које се први пут појавило 2006. године.\\nАлгоритми сортирања су распрострањени у уводу информатике, где обиље алгоритама за проблем пружа благи увод у разне концепте алгоритма као што су \" велико О\", подели па владај алгоритми, структуре података као што су гомиле и бинарна стабла, \"случајни алгоритми\", анализа најбољи, најгори и просечан случај, компромиси временског простора, као и горња и доња граница.', 'Тастатура или клавијатура је периферни уређај рачунарског система направљен по угледу на писаћу машину. Служи како за унос текста, бројева и знакова тако и за контролу операција које рачунар извршава.\\nФизички, тастатура је скуп тастера са угравираним или одштампаним словима, бројевима, знаковима или функцијама. У већини случајева притисак на тастер проузрокује исписивање једног симбола. Ипак, да би се добили неки симболи потребно је притиснути и држати више тастера истовремено или у одређеном редоследу. Притиском на неке од тастера не добија се никакав симбол већ се они користе за одређене операције на самој тастатури.', 'Кодови тастатуре су хексадецимални кодови које тастатура шаље рачунару сваки пут кад је тастер притиснут или отпуштен. Постоје 3 главна кода:\\n\\nСет 1 (XТ тастатуре са 83 тастера)\\nСет 2 (АТ тастатуре, у најширој употреби и данас)\\nСет 3 (неке ПС/2 тастатуре).']\n"
          ],
          "name": "stdout"
        }
      ]
    },
    {
      "cell_type": "markdown",
      "metadata": {
        "id": "c9MPLh8mo41F"
      },
      "source": [
        "# **BROJANJE RECI -> BAG-OF-WORDS**"
      ]
    },
    {
      "cell_type": "code",
      "metadata": {
        "id": "rGlqdYn4ub0-"
      },
      "source": [
        "def key_reduce(key_value, izlaz):\n",
        "    key1, value1 = izlaz\n",
        "    if len(key_value) is not 0:\n",
        "        key2, value2 = key_value[-1]\n",
        "        if key1 is not key2:\n",
        "          return key_value + [(key1, value1)]\n",
        "        else:\n",
        "            return key_value + [(key1, value1 + 1)]\n",
        "    else:\n",
        "        return key_value + [(key1, value1)]\n",
        "    \n",
        "def uredi_parove(rec):\n",
        "    return rec, 1\n",
        "\n",
        "def test_reduce(izlaz, ulaz):\n",
        "    brojac = 0\n",
        "    for x,y in izlaz:\n",
        "        if x == ulaz[0]:\n",
        "            izlaz[brojac] = x, y+1\n",
        "            return izlaz\n",
        "        brojac += 1\n",
        "    return izlaz + [ulaz]\n",
        "\n",
        "def izbaci_procent(izlaz, ulaz):\n",
        "    if ulaz[1] >= 0.1 * izlaz[0] or ulaz[1] <= 0.01 * izlaz[0]:\n",
        "        return izlaz\n",
        "    else:\n",
        "        return izlaz + [ulaz]\n",
        "    \n",
        "def izbaci_prazan_string(izlaz, ulaz):\n",
        "    if ulaz[0] == '':\n",
        "        return izlaz\n",
        "    else:\n",
        "        return izlaz + [ulaz]\n",
        "\n",
        "import re\n",
        "\n",
        "def obradi_tekst(tekst):\n",
        "    tekst = tekst.lower()\n",
        "    for n in ['\\n', '\\t', '=', '-', ',', '_', '.', ':', '„', '”', '\\'', '(', ')', '\\\"', '\\'', '+', '/', '—']:\n",
        "        tekst = tekst.replace(n, ' ')    \n",
        "    return re.split(' ', tekst)\n",
        "\n",
        "def all_words(page_summary):\n",
        "    return reduce(test_reduce, map(uredi_parove, obradi_tekst(page_summary)),[])\n",
        "\n",
        "def saberi_po_kljucu(izlaz, ulaz):\n",
        "    #print(\"IZLAZ : {}\".format(izlaz))\n",
        "    #print(\"ULAZ : {}\".format(ulaz))\n",
        "    if izlaz[-1] == None:\n",
        "        return [ulaz]\n",
        "    if ulaz[0] == izlaz[-1][0]:\n",
        "        return izlaz[:-1] + [(izlaz[-1][0] , izlaz[-1][1] + ulaz[1])]\n",
        "    else:\n",
        "        return izlaz + [ulaz]\n"
      ],
      "execution_count": null,
      "outputs": []
    },
    {
      "cell_type": "code",
      "metadata": {
        "colab": {
          "base_uri": "https://localhost:8080/",
          "height": 220
        },
        "id": "0xgVHeZtoprb",
        "outputId": "9401e8ea-d761-4e9b-85ff-48f3ac38a95e"
      },
      "source": [
        "resenje = reduce(merge_search, map(all_words, all_summary_list), [])\n",
        "resenje = reduce(saberi_po_kljucu, sorted(reduce(izbaci_prazan_string, resenje,[]), key = lambda x: x[0]), [None])\n",
        "\n",
        "print(resenje)"
      ],
      "execution_count": null,
      "outputs": [
        {
          "output_type": "error",
          "ename": "NameError",
          "evalue": "ignored",
          "traceback": [
            "\u001b[0;31m---------------------------------------------------------------------------\u001b[0m",
            "\u001b[0;31mNameError\u001b[0m                                 Traceback (most recent call last)",
            "\u001b[0;32m<ipython-input-8-01e13025ca0c>\u001b[0m in \u001b[0;36m<module>\u001b[0;34m()\u001b[0m\n\u001b[0;32m----> 1\u001b[0;31m \u001b[0mresenje\u001b[0m \u001b[0;34m=\u001b[0m \u001b[0mreduce\u001b[0m\u001b[0;34m(\u001b[0m\u001b[0mmerge_search\u001b[0m\u001b[0;34m,\u001b[0m \u001b[0mmap\u001b[0m\u001b[0;34m(\u001b[0m\u001b[0mall_words\u001b[0m\u001b[0;34m,\u001b[0m \u001b[0mall_summary_list\u001b[0m\u001b[0;34m)\u001b[0m\u001b[0;34m,\u001b[0m \u001b[0;34m[\u001b[0m\u001b[0;34m]\u001b[0m\u001b[0;34m)\u001b[0m\u001b[0;34m\u001b[0m\u001b[0;34m\u001b[0m\u001b[0m\n\u001b[0m\u001b[1;32m      2\u001b[0m \u001b[0mresenje\u001b[0m \u001b[0;34m=\u001b[0m \u001b[0mreduce\u001b[0m\u001b[0;34m(\u001b[0m\u001b[0msaberi_po_kljucu\u001b[0m\u001b[0;34m,\u001b[0m \u001b[0msorted\u001b[0m\u001b[0;34m(\u001b[0m\u001b[0mreduce\u001b[0m\u001b[0;34m(\u001b[0m\u001b[0mizbaci_prazan_string\u001b[0m\u001b[0;34m,\u001b[0m \u001b[0mresenje\u001b[0m\u001b[0;34m,\u001b[0m\u001b[0;34m[\u001b[0m\u001b[0;34m]\u001b[0m\u001b[0;34m)\u001b[0m\u001b[0;34m,\u001b[0m \u001b[0mkey\u001b[0m \u001b[0;34m=\u001b[0m \u001b[0;32mlambda\u001b[0m \u001b[0mx\u001b[0m\u001b[0;34m:\u001b[0m \u001b[0mx\u001b[0m\u001b[0;34m[\u001b[0m\u001b[0;36m0\u001b[0m\u001b[0;34m]\u001b[0m\u001b[0;34m)\u001b[0m\u001b[0;34m,\u001b[0m \u001b[0;34m[\u001b[0m\u001b[0;32mNone\u001b[0m\u001b[0;34m]\u001b[0m\u001b[0;34m)\u001b[0m\u001b[0;34m\u001b[0m\u001b[0;34m\u001b[0m\u001b[0m\n\u001b[1;32m      3\u001b[0m \u001b[0;34m\u001b[0m\u001b[0m\n\u001b[1;32m      4\u001b[0m \u001b[0mprint\u001b[0m\u001b[0;34m(\u001b[0m\u001b[0mresenje\u001b[0m\u001b[0;34m)\u001b[0m\u001b[0;34m\u001b[0m\u001b[0;34m\u001b[0m\u001b[0m\n",
            "\u001b[0;31mNameError\u001b[0m: name 'all_summary_list' is not defined"
          ]
        }
      ]
    },
    {
      "cell_type": "code",
      "metadata": {
        "colab": {
          "base_uri": "https://localhost:8080/"
        },
        "id": "JMsxe7cgyZfb",
        "outputId": "130f71ec-ed74-46fa-ce73-7579ce45d8f2"
      },
      "source": [
        "sto_posto = 0\r\n",
        "\r\n",
        "for x,y in resenje:\r\n",
        "    sto_posto += y\r\n",
        "\r\n",
        "\r\n",
        "print(\"broj tuplova : {}\".format(len(resenje)))\r\n",
        "print(\"100% : {} | 10% : {} | 1% : {}\".format(sto_posto, 0.1*sto_posto, 0.01*sto_posto))\r\n",
        "beograd_bag_of_words_model = reduce(izbaci_procent, resenje, [sto_posto])\r\n",
        "beograd_bag_of_words_model = beograd_bag_of_words_model[1:]\r\n",
        "print(\"broj tuplova : {}\".format(len(beograd_bag_of_words_model)))\r\n",
        "print(beograd_bag_of_words_model)"
      ],
      "execution_count": null,
      "outputs": [
        {
          "output_type": "stream",
          "text": [
            "broj tuplova : 9854\n",
            "100% : 37977 | 10% : 3797.7000000000003 | 1% : 379.77\n",
            "broj tuplova : 6\n",
            "[('и', 1470), ('на', 537), ('се', 520), ('су', 584), ('у', 1060), ('је', 1513)]\n"
          ],
          "name": "stdout"
        }
      ]
    },
    {
      "cell_type": "code",
      "metadata": {
        "colab": {
          "base_uri": "https://localhost:8080/"
        },
        "id": "q4V4GZoZ0_gv",
        "outputId": "0a7cdb38-b4e6-4d28-c663-10ce4a7b5b44"
      },
      "source": [
        "print(beograd_bag_of_words_model)\r\n",
        "lista_kljucnih_reci = list()\r\n",
        "for x, y in beograd_bag_of_words_model:\r\n",
        "    lista_kljucnih_reci.append(x)\r\n",
        "print(lista_kljucnih_reci)"
      ],
      "execution_count": null,
      "outputs": [
        {
          "output_type": "stream",
          "text": [
            "[('и', 1470), ('на', 537), ('се', 520), ('су', 584), ('у', 1060), ('је', 1513)]\n",
            "['и', 'на', 'се', 'су', 'у', 'је']\n"
          ],
          "name": "stdout"
        }
      ]
    },
    {
      "cell_type": "code",
      "metadata": {
        "colab": {
          "base_uri": "https://localhost:8080/"
        },
        "id": "J7xeHOfz3gLg",
        "outputId": "40cc5f69-5afc-4619-88a8-ff5ceb96725d"
      },
      "source": [
        "summary_list_final = map(obradi_tekst, all_summary_list)\r\n",
        "\r\n",
        "def funkcija(test):\r\n",
        "\r\n",
        "    def add_one(word):\r\n",
        "        return word, 1\r\n",
        "    text = map(add_one, test)\r\n",
        "    text = sorted(text, key = lambda x: x[0])\r\n",
        "    resenje = reduce(saberi_po_kljucu, text, [None])\r\n",
        "\r\n",
        "    def main_fun(izlaz, ulaz):\r\n",
        "        try:\r\n",
        "            if izlaz == ulaz[0]:\r\n",
        "                return ulaz[1]\r\n",
        "            else:\r\n",
        "                return izlaz\r\n",
        "        except:\r\n",
        "            pass\r\n",
        "\r\n",
        "    def reduce_final(kljucna_rec):\r\n",
        "        return reduce(main_fun, resenje, kljucna_rec) if isinstance(reduce(main_fun, resenje, kljucna_rec), int) else 0\r\n",
        "            \r\n",
        "    return list(map(reduce_final, lista_kljucnih_reci))\r\n",
        "\r\n",
        "all_vectors = list(map(funkcija, list(summary_list_final)))\r\n",
        "\r\n",
        "all_vectors = list(map(tuple, all_vectors))\r\n",
        "beograd = list((tuple(lista_kljucnih_reci), all_vectors))\r\n",
        "print('Kalup({}) = {}\\nVectors = {}\\nVectors count = {}\\n'.format(len(beograd[0]), beograd[0],beograd[1],len(beograd[1])))\r\n",
        "\r\n"
      ],
      "execution_count": null,
      "outputs": [
        {
          "output_type": "stream",
          "text": [
            "Kalup(6) = ('и', 'на', 'се', 'су', 'у', 'је')\n",
            "Vectors = [(7, 1, 1, 2, 3, 5), (3, 1, 2, 0, 1, 5), (4, 0, 0, 0, 2, 4), (1, 0, 0, 1, 1, 0), (6, 0, 2, 0, 7, 2), (1, 0, 1, 0, 1, 2), (4, 4, 3, 0, 5, 2), (2, 0, 1, 0, 2, 2), (9, 1, 0, 7, 8, 15), (12, 1, 3, 0, 9, 15), (6, 1, 1, 4, 7, 9), (2, 1, 1, 1, 2, 0), (3, 1, 1, 0, 4, 5), (5, 2, 2, 0, 3, 4), (2, 3, 1, 0, 2, 2), (10, 1, 2, 1, 4, 6), (1, 1, 1, 0, 2, 0), (0, 0, 1, 0, 1, 2), (7, 5, 4, 1, 7, 7), (1, 1, 0, 0, 0, 1), (15, 2, 9, 6, 13, 12), (2, 0, 1, 1, 4, 1), (3, 3, 3, 1, 3, 4), (5, 1, 0, 0, 2, 2), (13, 7, 7, 11, 13, 17), (6, 4, 2, 2, 6, 11), (1, 1, 1, 0, 0, 0), (6, 2, 1, 0, 2, 3), (5, 1, 1, 3, 10, 11), (7, 1, 1, 0, 3, 6), (0, 1, 2, 0, 3, 2), (0, 1, 0, 0, 0, 4), (3, 1, 0, 0, 0, 1), (0, 0, 0, 0, 0, 2), (3, 1, 3, 0, 1, 4), (0, 0, 1, 0, 2, 2), (0, 0, 0, 0, 2, 1), (0, 0, 0, 0, 2, 1), (0, 1, 1, 0, 2, 1), (10, 5, 4, 4, 15, 26), (1, 1, 0, 0, 2, 5), (1, 0, 0, 0, 0, 2), (3, 1, 0, 0, 3, 4), (8, 3, 1, 1, 7, 11), (0, 0, 1, 0, 1, 1), (4, 5, 3, 4, 1, 9), (1, 0, 1, 0, 3, 3), (1, 0, 0, 0, 2, 3), (4, 0, 2, 0, 2, 3), (6, 1, 1, 0, 1, 1), (13, 1, 2, 9, 5, 8), (1, 0, 0, 0, 0, 1), (0, 0, 0, 1, 1, 1), (1, 1, 0, 1, 1, 0), (19, 13, 9, 19, 10, 30), (8, 3, 5, 2, 1, 13), (0, 0, 0, 0, 0, 0), (10, 1, 1, 11, 5, 11), (3, 1, 2, 0, 3, 1), (10, 10, 1, 2, 2, 2), (1, 2, 0, 3, 3, 3), (7, 1, 1, 7, 3, 5), (3, 0, 2, 0, 5, 2), (3, 0, 0, 1, 2, 2), (18, 3, 1, 15, 14, 4), (1, 2, 3, 3, 3, 5), (17, 2, 0, 2, 13, 10), (4, 2, 3, 3, 4, 8), (39, 9, 8, 20, 29, 14), (0, 0, 0, 0, 2, 2), (8, 6, 5, 0, 10, 14), (6, 2, 3, 5, 3, 7), (8, 6, 6, 7, 8, 5), (5, 1, 5, 1, 4, 5), (1, 1, 0, 5, 3, 2), (2, 1, 1, 0, 4, 2), (9, 1, 2, 4, 4, 5), (7, 3, 1, 2, 1, 10), (36, 5, 3, 17, 6, 9), (1, 1, 1, 1, 0, 1), (1, 1, 0, 0, 1, 1), (15, 5, 4, 6, 4, 20), (2, 1, 1, 2, 6, 4), (3, 2, 0, 1, 3, 1), (6, 0, 0, 4, 6, 4), (2, 0, 0, 0, 2, 0), (4, 3, 1, 5, 3, 4), (7, 1, 0, 1, 4, 10), (5, 4, 1, 1, 0, 4), (0, 0, 0, 0, 2, 0), (5, 6, 2, 1, 3, 5), (2, 1, 0, 1, 1, 3), (13, 4, 2, 2, 5, 9), (6, 4, 0, 0, 4, 4), (14, 2, 2, 6, 6, 4), (2, 0, 0, 1, 1, 2), (9, 1, 3, 3, 6, 7), (4, 1, 2, 4, 5, 5), (0, 1, 0, 0, 2, 3), (3, 0, 2, 3, 7, 14), (5, 4, 5, 5, 8, 1), (9, 1, 4, 8, 2, 1), (11, 3, 3, 3, 1, 3), (2, 0, 0, 4, 2, 1), (1, 2, 0, 0, 0, 1), (1, 1, 3, 3, 4, 2), (14, 1, 1, 8, 10, 5), (1, 0, 3, 2, 0, 0), (0, 0, 0, 0, 0, 1), (0, 1, 2, 0, 0, 1), (1, 0, 0, 0, 0, 1), (0, 1, 0, 0, 0, 1), (9, 4, 6, 3, 5, 5), (2, 0, 1, 0, 0, 1), (4, 3, 1, 6, 2, 4), (0, 0, 0, 0, 0, 1), (0, 1, 0, 0, 1, 1), (0, 0, 0, 0, 0, 2), (1, 0, 0, 0, 0, 1), (4, 1, 0, 1, 1, 2), (1, 1, 0, 0, 1, 1), (0, 0, 0, 0, 0, 1), (1, 1, 0, 0, 1, 1), (0, 1, 1, 0, 2, 1), (0, 0, 0, 0, 0, 2), (0, 0, 0, 0, 0, 2), (4, 1, 8, 0, 3, 2), (1, 0, 0, 0, 0, 2), (0, 0, 0, 0, 1, 1), (0, 0, 0, 0, 1, 2), (0, 0, 0, 0, 0, 2), (0, 0, 0, 0, 0, 1), (0, 0, 0, 0, 1, 1), (1, 0, 0, 0, 0, 2), (0, 0, 0, 0, 0, 2), (1, 0, 0, 0, 0, 1), (0, 1, 0, 0, 0, 1), (1, 0, 0, 0, 1, 1), (0, 0, 0, 0, 0, 1), (0, 0, 0, 0, 1, 1), (0, 0, 0, 0, 0, 2), (0, 0, 0, 0, 0, 1), (1, 0, 0, 0, 0, 2), (0, 0, 0, 0, 0, 1), (0, 1, 0, 0, 0, 1), (7, 3, 10, 4, 5, 2), (2, 2, 3, 2, 4, 1), (0, 0, 0, 0, 0, 2), (0, 0, 0, 0, 0, 1), (5, 3, 2, 1, 3, 4), (5, 3, 0, 1, 4, 10), (1, 0, 0, 0, 1, 4), (3, 0, 0, 0, 1, 2), (5, 3, 2, 4, 2, 3), (4, 0, 0, 0, 1, 7), (3, 0, 1, 0, 4, 6), (1, 0, 0, 0, 3, 4), (3, 0, 0, 0, 3, 4), (1, 1, 1, 0, 4, 6), (4, 2, 1, 1, 6, 6), (5, 0, 2, 0, 5, 3), (0, 0, 1, 0, 0, 4), (1, 1, 0, 0, 1, 2), (9, 5, 6, 1, 5, 9), (2, 1, 2, 1, 6, 6), (5, 2, 3, 1, 8, 10), (1, 2, 4, 0, 2, 3), (4, 1, 2, 0, 3, 5), (6, 2, 2, 3, 3, 9), (1, 0, 0, 0, 1, 1), (7, 1, 0, 2, 0, 3), (5, 2, 2, 0, 0, 5), (7, 3, 5, 2, 7, 4), (16, 6, 9, 7, 2, 6), (0, 7, 5, 8, 5, 3), (5, 3, 1, 4, 4, 4), (1, 0, 0, 0, 1, 1), (0, 0, 1, 0, 1, 4), (6, 2, 1, 1, 0, 7), (2, 2, 0, 0, 2, 6), (3, 3, 0, 1, 3, 6), (0, 1, 0, 0, 0, 2), (5, 6, 8, 1, 4, 3), (2, 1, 0, 0, 0, 4), (0, 0, 1, 0, 1, 5), (6, 0, 1, 0, 1, 9), (0, 0, 1, 0, 1, 5), (13, 2, 0, 6, 5, 3), (2, 0, 3, 1, 2, 5), (1, 1, 4, 0, 1, 1), (5, 4, 9, 3, 5, 2), (15, 1, 6, 4, 3, 5), (3, 1, 0, 1, 1, 3), (2, 3, 2, 1, 1, 6), (0, 0, 1, 0, 1, 6), (1, 0, 1, 0, 1, 5), (0, 1, 0, 0, 2, 6), (2, 1, 2, 0, 1, 5), (5, 1, 2, 0, 4, 6), (0, 0, 1, 0, 3, 1), (18, 7, 8, 2, 15, 20), (21, 4, 5, 3, 14, 35), (1, 0, 1, 0, 1, 1), (7, 0, 2, 1, 4, 8), (0, 0, 1, 0, 1, 0), (4, 0, 0, 0, 1, 7), (1, 0, 1, 0, 2, 0), (0, 1, 0, 0, 0, 4), (3, 0, 1, 0, 0, 2), (0, 2, 0, 0, 1, 2), (0, 0, 0, 0, 0, 1), (1, 0, 0, 0, 1, 2), (1, 0, 1, 0, 3, 5), (1, 0, 0, 0, 1, 2), (3, 0, 1, 0, 0, 3), (2, 0, 0, 1, 1, 3), (2, 0, 0, 0, 1, 4), (22, 6, 6, 2, 15, 25), (23, 3, 11, 3, 14, 26), (3, 0, 0, 0, 0, 1), (0, 0, 0, 0, 0, 0), (3, 1, 0, 0, 5, 6), (0, 0, 0, 0, 0, 1), (1, 0, 1, 0, 0, 3), (0, 0, 0, 0, 0, 1), (4, 0, 1, 4, 2, 3), (27, 11, 13, 3, 23, 47), (1, 0, 0, 1, 0, 0), (1, 0, 0, 0, 1, 2), (1, 0, 0, 1, 0, 0), (32, 6, 6, 3, 16, 29), (3, 1, 0, 0, 1, 6), (2, 2, 0, 1, 2, 8), (2, 1, 0, 1, 3, 3), (7, 0, 1, 0, 0, 3), (8, 3, 4, 1, 6, 13), (2, 0, 0, 0, 0, 2), (3, 1, 0, 1, 1, 0), (31, 9, 12, 9, 33, 47), (1, 0, 0, 0, 1, 1), (9, 4, 2, 0, 3, 7), (6, 0, 1, 0, 2, 4), (0, 0, 0, 0, 1, 2), (0, 0, 0, 0, 0, 1), (5, 3, 2, 0, 5, 5), (1, 2, 0, 2, 2, 5), (3, 1, 2, 0, 5, 5), (2, 3, 2, 2, 1, 3), (1, 0, 1, 0, 2, 2), (1, 0, 1, 0, 2, 2), (7, 3, 4, 1, 0, 6), (0, 2, 2, 0, 2, 0), (1, 0, 1, 0, 2, 2), (0, 1, 1, 0, 1, 3), (2, 3, 6, 4, 8, 4), (4, 7, 5, 0, 2, 6), (0, 0, 0, 0, 3, 2), (0, 3, 6, 3, 5, 3), (4, 8, 2, 4, 4, 7), (1, 0, 1, 0, 2, 2), (5, 4, 2, 5, 5, 4), (1, 0, 0, 0, 0, 1), (0, 1, 0, 0, 2, 2), (0, 0, 0, 1, 1, 0), (1, 0, 0, 0, 4, 2), (1, 0, 0, 0, 2, 2), (1, 0, 1, 0, 1, 1), (0, 0, 0, 1, 1, 0), (0, 0, 0, 1, 1, 0), (2, 2, 3, 4, 7, 3), (4, 2, 1, 0, 3, 4), (0, 0, 2, 2, 1, 1), (0, 1, 0, 0, 0, 0), (0, 1, 0, 0, 0, 0), (2, 5, 0, 2, 2, 2), (0, 0, 1, 0, 1, 1), (9, 2, 1, 0, 4, 5), (1, 0, 1, 0, 3, 1), (10, 3, 0, 2, 5, 1), (0, 1, 0, 0, 0, 0), (1, 0, 0, 0, 1, 2), (1, 0, 0, 0, 1, 1), (6, 6, 1, 0, 3, 10), (1, 0, 0, 0, 1, 1), (0, 0, 1, 0, 2, 1), (5, 2, 2, 1, 3, 4), (1, 0, 0, 0, 1, 1), (1, 0, 0, 0, 1, 1), (2, 1, 1, 0, 3, 1), (1, 0, 0, 0, 0, 1), (0, 1, 0, 0, 0, 0), (0, 0, 1, 0, 2, 2), (1, 0, 0, 0, 1, 1), (0, 1, 0, 0, 0, 0), (0, 1, 1, 0, 0, 1), (0, 0, 1, 0, 2, 1), (1, 3, 3, 1, 2, 6), (15, 5, 6, 18, 11, 10), (36, 5, 3, 17, 6, 9), (39, 9, 8, 20, 29, 14), (9, 1, 2, 4, 4, 5), (1, 1, 1, 1, 0, 1), (2, 1, 1, 2, 6, 4), (8, 6, 6, 7, 8, 5), (0, 0, 0, 0, 2, 0), (5, 6, 2, 1, 3, 5), (6, 0, 0, 4, 6, 4), (6, 4, 0, 0, 4, 4), (0, 0, 0, 0, 0, 0), (2, 0, 0, 0, 2, 0), (5, 4, 1, 1, 0, 4), (3, 2, 0, 1, 3, 1), (14, 2, 2, 6, 6, 4), (1, 0, 0, 0, 0, 2), (5, 1, 0, 2, 3, 4), (2, 0, 0, 1, 2, 1), (5, 1, 5, 1, 4, 5), (5, 0, 2, 2, 4, 4), (7, 1, 0, 1, 3, 7), (7, 1, 2, 1, 4, 1), (0, 1, 2, 2, 2, 0), (1, 1, 0, 1, 1, 0), (5, 4, 4, 0, 3, 1), (3, 4, 0, 0, 0, 4), (19, 13, 9, 19, 10, 30), (1, 0, 0, 0, 0, 1), (0, 2, 1, 3, 2, 3), (0, 0, 0, 1, 2, 0), (7, 1, 1, 7, 3, 5), (3, 2, 2, 1, 1, 2), (15, 5, 4, 6, 4, 20), (8, 3, 5, 2, 1, 13), (0, 0, 0, 1, 1, 1), (1, 2, 0, 3, 3, 3), (2, 1, 1, 1, 2, 0), (13, 1, 2, 9, 5, 8), (10, 10, 1, 2, 2, 2), (3, 1, 2, 0, 3, 1), (0, 0, 0, 0, 0, 0), (0, 0, 0, 0, 1, 1), (3, 0, 0, 1, 2, 2), (18, 3, 1, 15, 14, 4), (1, 0, 0, 3, 2, 2), (3, 2, 0, 6, 2, 1), (17, 2, 0, 2, 13, 10), (1, 0, 2, 0, 2, 2), (0, 0, 0, 0, 1, 0)]\n",
            "Vectors count = 347\n",
            "\n"
          ],
          "name": "stdout"
        }
      ]
    },
    {
      "cell_type": "code",
      "metadata": {
        "id": "5hL_O1JWz4iU",
        "colab": {
          "base_uri": "https://localhost:8080/"
        },
        "outputId": "1d1ec4b2-b731-4940-85b6-f372bc16d96b"
      },
      "source": [
        "#\r\n",
        "#   PRIMER BAG-OF-WORDS\r\n",
        "#\r\n",
        "\r\n",
        "def funkcija(test):\r\n",
        "\r\n",
        "    def add_one(word):\r\n",
        "        return word, 1\r\n",
        "    text = map(add_one, test)\r\n",
        "    text = sorted(text, key = lambda x: x[0])\r\n",
        "    resenje = reduce(saberi_po_kljucu, text, [None])\r\n",
        "\r\n",
        "    def main_fun(izlaz, ulaz):\r\n",
        "        try:\r\n",
        "            if izlaz == ulaz[0]:\r\n",
        "                return ulaz[1]\r\n",
        "            else:\r\n",
        "                return izlaz\r\n",
        "        except:\r\n",
        "            pass\r\n",
        "\r\n",
        "    def reduce_final(kljucna_rec):\r\n",
        "        return reduce(main_fun, resenje, kljucna_rec) if isinstance(reduce(main_fun, resenje, kljucna_rec), int) else 0\r\n",
        "            \r\n",
        "    return list(map(reduce_final, bag_of_words_kalup))\r\n",
        "\r\n",
        "\r\n",
        "test_primer = [\"Mara mnogo voli Milovana, a Milovan mnogo voli Anu\", \r\n",
        "               \"Ana ne zna Milovana.\", \"Milovan je kriper.\", \r\n",
        "               \"Milovan mnogo voli Anu, Mara za to ne zna.\", \r\n",
        "               \"Da Mara sazna, bila bi ljubomorna.\"]\r\n",
        "\r\n",
        "lista = reduce(saberi_po_kljucu, sorted(reduce(izbaci_prazan_string, reduce(merge_search, map(all_words, test_primer), []),[]), key = lambda x: x[0]), [None])\r\n",
        "\r\n",
        "\r\n",
        "bag_of_words_kalup = list()\r\n",
        "for x, y in lista:\r\n",
        "    bag_of_words_kalup.append(x)\r\n",
        "\r\n",
        "\r\n",
        "test_lista = list(map(obradi_tekst, test_primer))\r\n",
        "\r\n",
        "\r\n",
        "\r\n",
        "all_vectors = list(map(funkcija, test_lista))\r\n",
        "all_vectors = list(map(tuple, all_vectors))\r\n",
        "test = list((tuple(bag_of_words_kalup), all_vectors))\r\n",
        "print('Kalup({}) = {}\\nVectors = {}\\nVectors count = {}\\n'.format(len(test[0]), test[0],test[1],len(test[1])))\r\n",
        "\r\n"
      ],
      "execution_count": null,
      "outputs": [
        {
          "output_type": "stream",
          "text": [
            "Kalup(19) = ('a', 'ana', 'anu', 'bi', 'bila', 'da', 'je', 'kriper', 'ljubomorna', 'mara', 'milovan', 'milovana', 'mnogo', 'ne', 'sazna', 'to', 'voli', 'za', 'zna')\n",
            "Vectors = [(1, 0, 1, 0, 0, 0, 0, 0, 0, 1, 1, 1, 2, 0, 0, 0, 2, 0, 0), (0, 1, 0, 0, 0, 0, 0, 0, 0, 0, 0, 1, 0, 1, 0, 0, 0, 0, 1), (0, 0, 0, 0, 0, 0, 1, 1, 0, 0, 1, 0, 0, 0, 0, 0, 0, 0, 0), (0, 0, 1, 0, 0, 0, 0, 0, 0, 1, 1, 0, 1, 1, 0, 1, 1, 1, 1), (0, 0, 0, 1, 1, 1, 0, 0, 1, 1, 0, 0, 0, 0, 1, 0, 0, 0, 0)]\n",
            "Vectors count = 5\n",
            "\n"
          ],
          "name": "stdout"
        }
      ]
    },
    {
      "cell_type": "markdown",
      "metadata": {
        "id": "_Dhg21IuGSk1"
      },
      "source": [
        "\n",
        "# ***K - KLASTER***\n",
        "Nasumicni podaci -> podaci sa vezbi\n"
      ]
    },
    {
      "cell_type": "code",
      "metadata": {
        "id": "gscloZbWrguf",
        "colab": {
          "base_uri": "https://localhost:8080/"
        },
        "outputId": "149441c7-931b-4420-e455-795c0e9f0f55"
      },
      "source": [
        "import numpy as np\n",
        "import matplotlib.pyplot as plt\n",
        "\n",
        "\n",
        "data = -2 * np.random.rand(200, 2)\n",
        "\n",
        "data1 = 1 + 5 * np.random.rand(40, 2)\n",
        "data2 = -6 + np.random.rand(50, 2)\n",
        "data2[:, 0] = data2[:, 0] - 2\n",
        "\n",
        "data3 = 0.5 + np.random.rand(40, 2)\n",
        "data3[:, 0] = (data3[:, 0] - 5)/4\n",
        "data3[:, 1] = data3[:, 1] * 4\n",
        "\n",
        "data4 = np.random.rand(20, 2)\n",
        "data4[:, 0] = data4[:, 0] -10\n",
        "data4[:, 1] = data4[:, 1] -3\n",
        "\n",
        "data[50:90, :] = data1\n",
        "data[90:110, :] = data4\n",
        "data[110:150, :] = data3\n",
        "data[150:200, :] = data2\n",
        "plt.scatter(data[ : , 0], data[ :, 1])"
      ],
      "execution_count": null,
      "outputs": [
        {
          "output_type": "execute_result",
          "data": {
            "text/plain": [
              "<matplotlib.collections.PathCollection at 0x7f2ac299e9b0>"
            ]
          },
          "metadata": {
            "tags": []
          },
          "execution_count": 7
        },
        {
          "output_type": "display_data",
          "data": {
            "image/png": "[encoded data removed]",
            "text/plain": [
              "<Figure size 432x288 with 1 Axes>"
            ]
          },
          "metadata": {
            "tags": [],
            "needs_background": "light"
          }
        }
      ]
    },
    {
      "cell_type": "code",
      "metadata": {
        "id": "_wKTovGzsq3Y",
        "colab": {
          "base_uri": "https://localhost:8080/"
        },
        "outputId": "4142d529-e19b-4a1a-f86b-5ec2b5028c6a"
      },
      "source": [
        "k = 5\n",
        "np.random.seed(3)\n",
        "centroids = np.random.uniform(4, -10, (k, 2))\n",
        "\n",
        "\n",
        "# Da pogledamo rezultat\n",
        "plt.scatter(data[ : , 0], data[ :, 1])\n",
        "for c in centroids:\n",
        "  plt.scatter(*c, marker='*', s=150)"
      ],
      "execution_count": null,
      "outputs": [
        {
          "output_type": "display_data",
          "data": {
            "image/png": "[encoded data removed]",
            "text/plain": [
              "<Figure size 432x288 with 1 Axes>"
            ]
          },
          "metadata": {
            "tags": [],
            "needs_background": "light"
          }
        }
      ]
    },
    {
      "cell_type": "code",
      "metadata": {
        "id": "R99J2syWxfQl",
        "colab": {
          "base_uri": "https://localhost:8080/"
        },
        "outputId": "7160b1c4-47bb-4543-9d3b-e50ff9d9ec8d"
      },
      "source": [
        "import math\n",
        "from functools import reduce\n",
        "def racunaj_rastojanje(o,c):\n",
        "    return math.sqrt((o[0] - c[0])**2 + (o[1] - c[1])**2)\n",
        "\n",
        "def min(izlaz, ulaz):\n",
        "    return ulaz if ulaz[1] < izlaz[1] else izlaz\n",
        "\n",
        "\n",
        "def rastojanje(izlaz, ulaz):\n",
        "    return izlaz + [(ulaz , racunaj_rastojanje(izlaz[0], ulaz))]\n",
        "\n",
        "\n",
        "def get_nearest_centroid_list(o , c):\n",
        "    return o , reduce(min, reduce(rastojanje, c , [o])[1:] , [0, float('inf')]) \n",
        "\n",
        "\n",
        "\n",
        "# ovo x se racuna za svaki kruzic iz date pomocu map\n",
        "# reduce(min, reduce(rastojanje, c , [c]) , [0, float('inf')]) \n",
        "#\n",
        "\n",
        "x = reduce(min, reduce(rastojanje, [[1,1],[1,2],[1,3],[1,4],[1,5]] , [[3,4]])[1:] , [0, float('inf')])\n",
        "print(x)\n",
        "print(\"\\n\\n\")\n",
        "\n",
        "#print(reduce(rastojanje, [[1,1],[1,2],[1,3],[1,4],[1,5]] , [[3,4]])[1:])\n",
        "#print([reduce(min, [(ulaz , racunaj_rastojanje(izlaz[0], ulaz))], [float('inf'), float('inf')])])\n",
        "\n",
        "\n",
        "def dodaj_brojac(array):\n",
        "    return array[0],array[1], 1\n",
        "\n",
        "def key_add(array, value):\n",
        "    global brojac_ponavljanja\n",
        "    if array and array[-1][0][0] == value[0][0] and array[-1][0][1] == value[0][1]:\n",
        "        array[-1] = array[-1][0], array[-1][1] + (value[1]), array[-1][2] + 1\n",
        "    else:\n",
        "        array.append(value)\n",
        "    return array\n",
        "\n",
        "def podeli(array):\n",
        "    return array[0], array[1]/array[2]\n",
        "\n",
        "\n",
        "def novi_centroidi(centroids, resenje_reduce):\n",
        "    brojac = 0\n",
        "    while brojac < len(centroids):\n",
        "        for x, y in resenje_reduce:\n",
        "            if centroids[brojac][0] == x[0] and centroids[brojac][1] == x[1]:\n",
        "                centroids[brojac] = y\n",
        "                break\n",
        "        brojac += 1\n",
        "\n",
        "    return centroids\n",
        "\n"
      ],
      "execution_count": null,
      "outputs": [
        {
          "output_type": "stream",
          "text": [
            "([1, 4], 2.0)\n",
            "\n",
            "\n",
            "\n"
          ],
          "name": "stdout"
        }
      ]
    },
    {
      "cell_type": "code",
      "metadata": {
        "id": "EO9-EQBcrW6e",
        "colab": {
          "base_uri": "https://localhost:8080/"
        },
        "outputId": "ab2c4e76-20a5-43d7-bd2e-c4818df98753"
      },
      "source": [
        "from itertools import starmap\n",
        "import numpy\n",
        "\n",
        "#   resenje lista elemenata oblika:\n",
        "#   (kruzic , (najbliza_zvezda, rastojanje_kruzic_najbliza_zvezda))\n",
        "#   (o , (* , d))\n",
        "#\n",
        "#   sledece na zadatku je da pretrazimo ovu listu, izvucemo zvezde i njihove kruzice\n",
        "#   potom treba da se izracuna novi i promeni stari polozaj zvezdi\n",
        "#   opciono: da se proveri da li se zvezda pomerila (case za END)\n",
        "#   ponovo da se racuna resenje i ponovo da se racuna novi polozaj itd itd\n",
        "\n",
        "\n",
        "for x in range(20):\n",
        "\n",
        "    print(\"CENTROIDS: {}\".format(centroids))\n",
        "    starting_data = list()\n",
        "    for o in data:\n",
        "        starting_data.append((o, centroids))\n",
        "\n",
        "    resenje = starmap(get_nearest_centroid_list, starting_data)\n",
        "\n",
        "    resenje_bez_d = map(dodaj_brojac, sorted(list(starmap(lambda x, y : (y[0], x) , resenje)), key=lambda x: (x[0][0],x[0][1])))\n",
        "\n",
        "    centroids = sorted(centroids, key = lambda x : (x[0],x[1]))\n",
        "\n",
        "    resenje_reduce = map(podeli, reduce(key_add, resenje_bez_d, []))\n",
        "\n",
        "\n",
        "    centroids = sorted(novi_centroidi(centroids , list(resenje_reduce)), key = lambda x : (x[0],x[1]))\n",
        "    \n",
        "\n",
        "\n"
      ],
      "execution_count": null,
      "outputs": [
        {
          "output_type": "stream",
          "text": [
            "CENTROIDS: [[-3.71117064 -5.91406952]\n",
            " [-0.07266634 -3.15158647]\n",
            " [-8.50125736 -8.54810325]\n",
            " [ 2.24180565  1.09859971]\n",
            " [ 3.27945915 -2.17133781]]\n",
            "CENTROIDS: [array([-8.12126046, -4.64184262]), array([-7.13336447, -5.19410049]), array([-1.00095417, -1.01418777]), array([1.14575639, 3.66285827]), array([ 3.27945915, -2.17133781])]\n",
            "CENTROIDS: [array([-9.16534317, -3.2189294 ]), array([-7.39204158, -5.54541155]), array([-0.98700953, -0.99790819]), array([1.00740538, 3.79394428]), array([5.17992501, 1.58600654])]\n",
            "CENTROIDS: [array([-9.53374981, -2.61801201]), array([-7.45747512, -5.50660065]), array([-0.98700953, -0.99790819]), array([0.26173542, 3.90451953]), array([4.77243265, 2.93765494])]\n",
            "CENTROIDS: [array([-9.53374981, -2.61801201]), array([-7.45747512, -5.50660065]), array([-0.98700953, -0.99790819]), array([-0.37362354,  3.94506182]), array([4.01922907, 3.27673266])]\n",
            "CENTROIDS: [array([-9.53374981, -2.61801201]), array([-7.45747512, -5.50660065]), array([-0.98700953, -0.99790819]), array([-0.5505937,  3.8761918]), array([3.87384132, 3.45026873])]\n",
            "CENTROIDS: [array([-9.53374981, -2.61801201]), array([-7.45747512, -5.50660065]), array([-0.98700953, -0.99790819]), array([-0.65344239,  3.82372304]), array([3.75217522, 3.55081049])]\n",
            "CENTROIDS: [array([-9.53374981, -2.61801201]), array([-7.45747512, -5.50660065]), array([-0.98700953, -0.99790819]), array([-0.70513644,  3.81266476]), array([3.69253723, 3.57379852])]\n",
            "CENTROIDS: [array([-9.53374981, -2.61801201]), array([-7.45747512, -5.50660065]), array([-0.98700953, -0.99790819]), array([-0.70513644,  3.81266476]), array([3.69253723, 3.57379852])]\n",
            "CENTROIDS: [array([-9.53374981, -2.61801201]), array([-7.45747512, -5.50660065]), array([-0.98700953, -0.99790819]), array([-0.70513644,  3.81266476]), array([3.69253723, 3.57379852])]\n",
            "CENTROIDS: [array([-9.53374981, -2.61801201]), array([-7.45747512, -5.50660065]), array([-0.98700953, -0.99790819]), array([-0.70513644,  3.81266476]), array([3.69253723, 3.57379852])]\n",
            "CENTROIDS: [array([-9.53374981, -2.61801201]), array([-7.45747512, -5.50660065]), array([-0.98700953, -0.99790819]), array([-0.70513644,  3.81266476]), array([3.69253723, 3.57379852])]\n",
            "CENTROIDS: [array([-9.53374981, -2.61801201]), array([-7.45747512, -5.50660065]), array([-0.98700953, -0.99790819]), array([-0.70513644,  3.81266476]), array([3.69253723, 3.57379852])]\n",
            "CENTROIDS: [array([-9.53374981, -2.61801201]), array([-7.45747512, -5.50660065]), array([-0.98700953, -0.99790819]), array([-0.70513644,  3.81266476]), array([3.69253723, 3.57379852])]\n",
            "CENTROIDS: [array([-9.53374981, -2.61801201]), array([-7.45747512, -5.50660065]), array([-0.98700953, -0.99790819]), array([-0.70513644,  3.81266476]), array([3.69253723, 3.57379852])]\n",
            "CENTROIDS: [array([-9.53374981, -2.61801201]), array([-7.45747512, -5.50660065]), array([-0.98700953, -0.99790819]), array([-0.70513644,  3.81266476]), array([3.69253723, 3.57379852])]\n",
            "CENTROIDS: [array([-9.53374981, -2.61801201]), array([-7.45747512, -5.50660065]), array([-0.98700953, -0.99790819]), array([-0.70513644,  3.81266476]), array([3.69253723, 3.57379852])]\n",
            "CENTROIDS: [array([-9.53374981, -2.61801201]), array([-7.45747512, -5.50660065]), array([-0.98700953, -0.99790819]), array([-0.70513644,  3.81266476]), array([3.69253723, 3.57379852])]\n",
            "CENTROIDS: [array([-9.53374981, -2.61801201]), array([-7.45747512, -5.50660065]), array([-0.98700953, -0.99790819]), array([-0.70513644,  3.81266476]), array([3.69253723, 3.57379852])]\n",
            "CENTROIDS: [array([-9.53374981, -2.61801201]), array([-7.45747512, -5.50660065]), array([-0.98700953, -0.99790819]), array([-0.70513644,  3.81266476]), array([3.69253723, 3.57379852])]\n"
          ],
          "name": "stdout"
        }
      ]
    },
    {
      "cell_type": "code",
      "metadata": {
        "id": "B0M-DFy7DfrG",
        "colab": {
          "base_uri": "https://localhost:8080/"
        },
        "outputId": "7a8c090d-bdf9-413e-f0bd-32044ae91369"
      },
      "source": [
        "\n",
        "plt.scatter(data[ : , 0], data[ :, 1])\n",
        "for c in centroids:\n",
        "  plt.scatter(*c, marker='*', s=600)\n"
      ],
      "execution_count": null,
      "outputs": [
        {
          "output_type": "display_data",
          "data": {
            "image/png": "[encoded data removed]",
            "text/plain": [
              "<Figure size 432x288 with 1 Axes>"
            ]
          },
          "metadata": {
            "tags": [],
            "needs_background": "light"
          }
        }
      ]
    }
  ]
}